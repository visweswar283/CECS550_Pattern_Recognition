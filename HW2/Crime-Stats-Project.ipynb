{
 "cells": [
  {
   "cell_type": "markdown",
   "id": "55e6b918-afac-43e8-b338-43f8ac64014f",
   "metadata": {
    "id": "55e6b918-afac-43e8-b338-43f8ac64014f"
   },
   "source": [
    "##  Deep Neural Networks Project"
   ]
  },
  {
   "cell_type": "markdown",
   "id": "1a8e066d-2849-4a6e-9c71-bb98d605ae07",
   "metadata": {
    "id": "1a8e066d-2849-4a6e-9c71-bb98d605ae07"
   },
   "source": [
    "In this project, you will be working with a real-world data set from the Las Vegas Metropolitan Police Department. The dataset  contains information about the reported incidents, including the time and location of the crime, type of incident, and number of persons involved."
   ]
  },
  {
   "cell_type": "markdown",
   "id": "9e87fac7-352a-4c39-b087-76254b5e2743",
   "metadata": {
    "id": "9e87fac7-352a-4c39-b087-76254b5e2743"
   },
   "source": [
    "The dataset is downloaded from the public docket at:\n",
    "https://opendata-lvmpd.hub.arcgis.com\n",
    "\n",
    "let's read the csv file and transform the data:"
   ]
  },
  {
   "cell_type": "code",
   "execution_count": 1,
   "id": "637211a4-582f-426b-a127-c3f284463f35",
   "metadata": {
    "id": "637211a4-582f-426b-a127-c3f284463f35"
   },
   "outputs": [],
   "source": [
    "import torch\n",
    "import pandas as pd\n",
    "from torch.utils.data import DataLoader, Dataset\n",
    "import matplotlib.pyplot as plt\n",
    "import seaborn as sns\n",
    "import numpy as np"
   ]
  },
  {
   "cell_type": "code",
   "execution_count": 2,
   "id": "bcf40b02-80b6-4abc-a662-f7ed50a65181",
   "metadata": {
    "id": "bcf40b02-80b6-4abc-a662-f7ed50a65181"
   },
   "outputs": [],
   "source": [
    "orig_df = pd.read_csv('./datasets/LVMPD-Stats.csv', parse_dates=['ReportedOn'])"
   ]
  },
  {
   "cell_type": "code",
   "execution_count": 3,
   "id": "e1ca1d15-3955-4971-a3c4-c1a73b62edda",
   "metadata": {
    "id": "e1ca1d15-3955-4971-a3c4-c1a73b62edda"
   },
   "outputs": [],
   "source": [
    "df = pd.read_csv('./datasets/LVMPD-Stats.csv', parse_dates=['ReportedOn'],\n",
    "                 usecols = ['X', 'Y', 'ReportedOn',\n",
    "                            'Area_Command','NIBRSOffenseCode',\n",
    "                            'VictimCount' ] )\n",
    "\n",
    "df['DayOfWeek'] = df['ReportedOn'].dt.day_name()\n",
    "df['Time' ]     = df['ReportedOn'].dt.hour\n",
    "df.drop(columns = 'ReportedOn', inplace=True)"
   ]
  },
  {
   "cell_type": "code",
   "execution_count": 4,
   "id": "3ddc413d-ba3f-4204-bc18-7fdd4de8d221",
   "metadata": {
    "id": "3ddc413d-ba3f-4204-bc18-7fdd4de8d221"
   },
   "outputs": [],
   "source": [
    "df['X'] = df['X']\n",
    "df['Y'] = df['Y']\n",
    "df['Time'] = pd.factorize(df['Time'])[0]\n",
    "df['DayOfWeek'] = pd.factorize(df['DayOfWeek'])[0]\n",
    "df.Area_Command = pd.factorize(df['Area_Command'])[0]\n",
    "df.VictimCount = pd.factorize(df['VictimCount'])[0]\n",
    "df.NIBRSOffenseCode = pd.factorize(df['NIBRSOffenseCode'])[0]\n",
    "df.dropna(inplace=True)"
   ]
  },
  {
   "cell_type": "code",
   "execution_count": 5,
   "id": "a9c6162f-9686-4195-818d-950a6368c686",
   "metadata": {
    "id": "a9c6162f-9686-4195-818d-950a6368c686"
   },
   "outputs": [],
   "source": [
    "df= df[['X', 'Y', 'Area_Command', 'NIBRSOffenseCode',\n",
    "       'DayOfWeek', 'Time','VictimCount']]"
   ]
  },
  {
   "cell_type": "code",
   "execution_count": 6,
   "id": "a90bc78a-6d1b-4fe4-a1b0-8333aec1c851",
   "metadata": {
    "colab": {
     "base_uri": "https://localhost:8080/"
    },
    "id": "a90bc78a-6d1b-4fe4-a1b0-8333aec1c851",
    "outputId": "dd41636f-f78b-478b-9c52-bad6e635cbb3"
   },
   "outputs": [
    {
     "data": {
      "text/plain": [
       "(275, 7)"
      ]
     },
     "execution_count": 6,
     "metadata": {},
     "output_type": "execute_result"
    }
   ],
   "source": [
    "df.values.shape"
   ]
  },
  {
   "cell_type": "markdown",
   "id": "651605b1-8d2c-4d3e-a09e-9aef6e550fc6",
   "metadata": {
    "id": "651605b1-8d2c-4d3e-a09e-9aef6e550fc6"
   },
   "source": [
    "# Goal\n",
    "The goal is to build a predictive model that is trained on the following data:\n",
    "* latitude and longitude (location)\n",
    "* Hour of the day\n",
    "* Day of the week\n",
    "* Area-of-command code: The police designation of the bureau of the operation.\n",
    "* Classification code for the crime committed\n",
    "  \n",
    "The predicted variable is the number of persons involved in the accident.\n"
   ]
  },
  {
   "cell_type": "markdown",
   "id": "0e54f0b8-83f9-4db9-88f9-f5a595342069",
   "metadata": {
    "id": "0e54f0b8-83f9-4db9-88f9-f5a595342069"
   },
   "source": [
    "## Task 1\n",
    "* print a few rows of the values in the dataframe ``df`` and explain what each column of data means.\n",
    "* identify the input and target variables\n",
    "* what is the range of values in each column? Do you need to scale, shift or normalize your data?\n"
   ]
  },
  {
   "cell_type": "markdown",
   "id": "oit-qizuVBv-",
   "metadata": {
    "id": "oit-qizuVBv-"
   },
   "source": [
    "1. **Exploring Data and Explanations:**"
   ]
  },
  {
   "cell_type": "code",
   "execution_count": 7,
   "id": "RVfEef3gCdPf",
   "metadata": {
    "colab": {
     "base_uri": "https://localhost:8080/"
    },
    "id": "RVfEef3gCdPf",
    "outputId": "6f89a049-6d4c-442a-d407-839b5e223c44"
   },
   "outputs": [
    {
     "name": "stdout",
     "output_type": "stream",
     "text": [
      "            X          Y  Area_Command  NIBRSOffenseCode  DayOfWeek  Time  \\\n",
      "0 -115.087518  36.216702             0                 0          0     0   \n",
      "1 -115.240172  36.189693             1                 1          1     1   \n",
      "2 -115.143088  36.181329             2                 1          2     0   \n",
      "3 -115.225014  36.117633             3                 1          1     2   \n",
      "4 -115.176708  36.095967             4                 1          1     3   \n",
      "\n",
      "   VictimCount  \n",
      "0            0  \n",
      "1            0  \n",
      "2            1  \n",
      "3            2  \n",
      "4            0  \n"
     ]
    }
   ],
   "source": [
    "print(df.head())"
   ]
  },
  {
   "cell_type": "markdown",
   "id": "4c142037",
   "metadata": {},
   "source": [
    "   Explanations:\n",
    "   - `X (Latitude)`: Latitude of the reported incident.\n",
    "   - `Y (Longitude)`: Longitude of the reported incident.\n",
    "   - `Area_Command`: Police designation of the bureau of the operation (categorized as integers).\n",
    "   - `NIBRSOffenseCode`: Classification code for the crime committed (categorized as integers).\n",
    "   - `DayOfWeek`: Day of the week (categorized as integers, e.g., 0 for Sunday).\n",
    "   - `Time`: Hour of the day (categorized as integers, e.g., 0 for midnight).\n",
    "   - `VictimCount`: Number of persons involved in the incident.\n",
    "   \n",
    "   2. **Identifying Variables:**\n",
    "      - **Input Variables:** Latitude (X), Longitude (Y), Hour of the day (Time), Day of the week (DayOfWeek), Area-of-command code (Area_Command), Classification code for the crime committed (NIBRSOffenseCode).\n",
    "      - **Target Variable:** Number of persons involved in the incident (VictimCount).\n",
    "      \n",
    "\n",
    "   3. **Data Range and Preprocessing:**\n",
    "         - Latitude (X) and Longitude (Y) : represents geographical coordinates and may have a wide range of values depending on the area. It's common to scale these values to a smaller range, such as [0, 1] or [-1, 1].\n",
    "       - Time has values from 0 to 23, representing the 24 hours of a day.\n",
    "       - DayOfWeek has values from 0 to 6, representing the days of the week (0 for Sunday, 1 for Monday, and so on).\n",
    "       - Area_Command and NIBRSOffenseCode are categorical variables, factorized into integers.\n",
    "       - VictimCount represents the number of persons involved in the incident and can vary widely ranging from 0 to a higher number.\n",
    "       - For numerical features like Time, DayOfWeek, and VictimCount, consider scaling or normalizing them based on your machine learning model's requirements. Standardization or Min-Max scaling are common approaches.\n",
    "\n"
   ]
  },
  {
   "cell_type": "markdown",
   "id": "5549ecc9-3c0b-4efa-9a1f-340a25a1e4be",
   "metadata": {
    "id": "5549ecc9-3c0b-4efa-9a1f-340a25a1e4be"
   },
   "source": [
    "## Task 2\n",
    "\n",
    "* Create two `DataLoader` objects for training and testing based on the input and output variables. Pick a reasonable batch size and verify the shape of data by iterating over the one dataset and printing the shape of the batched data."
   ]
  },
  {
   "cell_type": "code",
   "execution_count": 8,
   "id": "9623be9c",
   "metadata": {
    "colab": {
     "base_uri": "https://localhost:8080/"
    },
    "id": "00fe4287-934b-4799-9e43-c3571acfbab4",
    "outputId": "d1009cc9-ed4e-4f60-9086-d51356f03ac6"
   },
   "outputs": [
    {
     "name": "stdout",
     "output_type": "stream",
     "text": [
      "Training Batch Shape - Inputs: torch.Size([64, 6]), Targets: torch.Size([64])\n",
      "Testing Batch Shape - Inputs: torch.Size([55, 6]), Targets: torch.Size([55])\n"
     ]
    }
   ],
   "source": [
    "import torch\n",
    "from torch.utils.data import DataLoader, Dataset, random_split\n",
    "\n",
    "# Assuming df is your preprocessed dataframe with input and target variables\n",
    "\n",
    "# Define a custom dataset\n",
    "class CustomDataset(Dataset):\n",
    "    def __init__(self, dataframe):\n",
    "        self.data = dataframe\n",
    "\n",
    "    def __len__(self):\n",
    "        return len(self.data)\n",
    "\n",
    "    def __getitem__(self, index):\n",
    "        input_data = self.data.iloc[index, :-1].values\n",
    "        target = self.data.iloc[index, -1]\n",
    "        return torch.tensor(input_data, dtype=torch.float), torch.tensor(target, dtype=torch.float)\n",
    "\n",
    "# Split the dataset into training and testing subsets\n",
    "train_size = int(0.8 * len(df))  # 80% for training, 20% for testing\n",
    "test_size = len(df) - train_size\n",
    "train_dataset, test_dataset = random_split(CustomDataset(df), [train_size, test_size])\n",
    "\n",
    "# Define batch size\n",
    "batch_size = 64\n",
    "\n",
    "# Create DataLoader objects for training and testing\n",
    "train_loader = DataLoader(train_dataset, batch_size=batch_size, shuffle=True)\n",
    "test_loader = DataLoader(test_dataset, batch_size=batch_size, shuffle=False)\n",
    "\n",
    "# Verify the shape of data by iterating over one dataset\n",
    "for inputs, targets in train_loader:\n",
    "    print(\"Training Batch Shape - Inputs: {}, Targets: {}\".format(inputs.shape, targets.shape))\n",
    "    break  # Break after the first batch to avoid printing too much\n",
    "\n",
    "for inputs, targets in test_loader:\n",
    "    print(\"Testing Batch Shape - Inputs: {}, Targets: {}\".format(inputs.shape, targets.shape))\n",
    "    break  # Break after the first batch to avoid printing too much\n"
   ]
  },
  {
   "cell_type": "markdown",
   "id": "c7c543c7",
   "metadata": {},
   "source": [
    "**Task 2: Creating DataLoader Objects for Training and Testing**\n",
    "\n",
    "1. **DataLoader Objects Created:**\n",
    "\n",
    "   Two DataLoader objects have been created for training and testing based on the input and output variables. The training DataLoader will be used for training your model, and the testing DataLoader for evaluating its performance.\n",
    "\n",
    "2. **Batch Size:**\n",
    "\n",
    "   A batch size of 64 has been chosen for processing data in batches. This batch size can be adjusted based on your specific requirements and available computational resources.\n",
    "\n",
    "3. **Data Shape Verification:**\n",
    "\n",
    "   - Training Batch Shape - Inputs: (64, 6), Targets: (64)\n",
    "   - Testing Batch Shape - Inputs: (55, 6), Targets: (55)\n",
    "\n",
    "   The shapes of the input and target data in the first batch from both the training and testing DataLoader have been printed to verify that the data is correctly batched. Each batch contains 64 samples.\n"
   ]
  },
  {
   "cell_type": "markdown",
   "id": "1fb6f08c-5e70-4b14-b62c-4686d9f7aace",
   "metadata": {
    "id": "1fb6f08c-5e70-4b14-b62c-4686d9f7aace"
   },
   "source": [
    "## Task 3\n",
    "In this task you will try to predict number of crime victims as a **real number**. Therefore the machine learning problem is a **regression** problem.\n",
    "\n",
    "* Define the proper loss function for this task\n",
    "* what should the size of the predicted output be?\n",
    "* explain your choice of architecture, including how many layers you will be using\n",
    "* define an optimizer for training this model, choose a proper learning rate\n",
    "* write a training loop that obtains a batch out of the  training data and calculates the forward and backward passes over the neural network. Call the optimizer to update the weights of the neural network.\n",
    "* write a for loop that continues the training over a number of epochs. At the end of each epoch, calculate the ``MSE`` error on the test data and print it.\n",
    "* is your model training well? Adjust the learning rate, hidden size of the network, and try different activation functions and number of layers to achieve the best accuracy and report it."
   ]
  },
  {
   "cell_type": "code",
   "execution_count": 9,
   "id": "253e3d25",
   "metadata": {
    "colab": {
     "base_uri": "https://localhost:8080/"
    },
    "id": "7d929c52-af34-4081-92cd-3463a3fc4db1",
    "outputId": "aa038c17-3f39-4493-bab0-49da125078c2"
   },
   "outputs": [
    {
     "name": "stdout",
     "output_type": "stream",
     "text": [
      "\n",
      "Training model with LR=0.001, Hidden Size=32, Activation=ReLU:\n"
     ]
    },
    {
     "name": "stderr",
     "output_type": "stream",
     "text": [
      "C:\\Users\\viswe\\anaconda3\\lib\\site-packages\\torch\\nn\\modules\\loss.py:535: UserWarning: Using a target size (torch.Size([64])) that is different to the input size (torch.Size([64, 1])). This will likely lead to incorrect results due to broadcasting. Please ensure they have the same size.\n",
      "  return F.mse_loss(input, target, reduction=self.reduction)\n",
      "C:\\Users\\viswe\\anaconda3\\lib\\site-packages\\torch\\nn\\modules\\loss.py:535: UserWarning: Using a target size (torch.Size([28])) that is different to the input size (torch.Size([28, 1])). This will likely lead to incorrect results due to broadcasting. Please ensure they have the same size.\n",
      "  return F.mse_loss(input, target, reduction=self.reduction)\n",
      "C:\\Users\\viswe\\anaconda3\\lib\\site-packages\\torch\\nn\\modules\\loss.py:535: UserWarning: Using a target size (torch.Size([55])) that is different to the input size (torch.Size([55, 1])). This will likely lead to incorrect results due to broadcasting. Please ensure they have the same size.\n",
      "  return F.mse_loss(input, target, reduction=self.reduction)\n"
     ]
    },
    {
     "name": "stdout",
     "output_type": "stream",
     "text": [
      "\n",
      "Training model with LR=0.001, Hidden Size=32, Activation=LeakyReLU:\n",
      "\n",
      "Training model with LR=0.001, Hidden Size=32, Activation=Sigmoid:\n",
      "\n",
      "Training model with LR=0.001, Hidden Size=32, Activation=Tanh:\n",
      "\n",
      "Training model with LR=0.001, Hidden Size=64, Activation=ReLU:\n",
      "\n",
      "Training model with LR=0.001, Hidden Size=64, Activation=LeakyReLU:\n",
      "\n",
      "Training model with LR=0.001, Hidden Size=64, Activation=Sigmoid:\n",
      "\n",
      "Training model with LR=0.001, Hidden Size=64, Activation=Tanh:\n",
      "\n",
      "Training model with LR=0.001, Hidden Size=128, Activation=ReLU:\n",
      "\n",
      "Training model with LR=0.001, Hidden Size=128, Activation=LeakyReLU:\n",
      "\n",
      "Training model with LR=0.001, Hidden Size=128, Activation=Sigmoid:\n",
      "\n",
      "Training model with LR=0.001, Hidden Size=128, Activation=Tanh:\n",
      "\n",
      "Training model with LR=0.01, Hidden Size=32, Activation=ReLU:\n",
      "\n",
      "Training model with LR=0.01, Hidden Size=32, Activation=LeakyReLU:\n",
      "\n",
      "Training model with LR=0.01, Hidden Size=32, Activation=Sigmoid:\n",
      "\n",
      "Training model with LR=0.01, Hidden Size=32, Activation=Tanh:\n",
      "\n",
      "Training model with LR=0.01, Hidden Size=64, Activation=ReLU:\n",
      "\n",
      "Training model with LR=0.01, Hidden Size=64, Activation=LeakyReLU:\n",
      "\n",
      "Training model with LR=0.01, Hidden Size=64, Activation=Sigmoid:\n",
      "\n",
      "Training model with LR=0.01, Hidden Size=64, Activation=Tanh:\n",
      "\n",
      "Training model with LR=0.01, Hidden Size=128, Activation=ReLU:\n",
      "\n",
      "Training model with LR=0.01, Hidden Size=128, Activation=LeakyReLU:\n",
      "\n",
      "Training model with LR=0.01, Hidden Size=128, Activation=Sigmoid:\n",
      "\n",
      "Training model with LR=0.01, Hidden Size=128, Activation=Tanh:\n",
      "\n",
      "Training model with LR=0.1, Hidden Size=32, Activation=ReLU:\n",
      "\n",
      "Training model with LR=0.1, Hidden Size=32, Activation=LeakyReLU:\n",
      "\n",
      "Training model with LR=0.1, Hidden Size=32, Activation=Sigmoid:\n",
      "\n",
      "Training model with LR=0.1, Hidden Size=32, Activation=Tanh:\n",
      "\n",
      "Training model with LR=0.1, Hidden Size=64, Activation=ReLU:\n",
      "\n",
      "Training model with LR=0.1, Hidden Size=64, Activation=LeakyReLU:\n",
      "\n",
      "Training model with LR=0.1, Hidden Size=64, Activation=Sigmoid:\n",
      "\n",
      "Training model with LR=0.1, Hidden Size=64, Activation=Tanh:\n",
      "\n",
      "Training model with LR=0.1, Hidden Size=128, Activation=ReLU:\n",
      "\n",
      "Training model with LR=0.1, Hidden Size=128, Activation=LeakyReLU:\n",
      "\n",
      "Training model with LR=0.1, Hidden Size=128, Activation=Sigmoid:\n",
      "\n",
      "Training model with LR=0.1, Hidden Size=128, Activation=Tanh:\n",
      "\n",
      "Best Model Parameters: {'learning_rate': 0.1, 'hidden_size': 32, 'activation': 'Sigmoid'}\n",
      "Best Test MSE: 0.933631181716919\n"
     ]
    }
   ],
   "source": [
    "import torch\n",
    "import torch.optim as optim\n",
    "import torch.nn as nn\n",
    "from sklearn.model_selection import train_test_split\n",
    "import numpy as np\n",
    "\n",
    "# Define a custom PyTorch model class\n",
    "class CustomModel(nn.Module):\n",
    "    def __init__(self, input_dim, hidden_size, activation):\n",
    "        super(CustomModel, self).__init__()\n",
    "        self.layer1 = nn.Linear(input_dim, hidden_size)\n",
    "        self.layer2 = nn.Linear(hidden_size, hidden_size)\n",
    "        self.output_layer = nn.Linear(hidden_size, 1)\n",
    "        self.activation = activation\n",
    "\n",
    "    def forward(self, x):\n",
    "        x = self.activation(self.layer1(x))\n",
    "        x = self.activation(self.layer2(x))\n",
    "        return self.output_layer(x)\n",
    "\n",
    "# Define a function to train and evaluate the model\n",
    "def train_and_evaluate(model, train_loader, test_loader, optimizer, criterion, epochs=10):\n",
    "    model.train()\n",
    "    for epoch in range(epochs):\n",
    "        for data, labels in train_loader:\n",
    "            optimizer.zero_grad()\n",
    "            outputs = model(data.float())\n",
    "            loss = criterion(outputs, labels.float())\n",
    "            loss.backward()\n",
    "            optimizer.step()\n",
    "\n",
    "    # Inside the train_and_evaluate function\n",
    "    model.eval()\n",
    "    test_losses = []\n",
    "    predictions = []\n",
    "    targets = []\n",
    "\n",
    "    for data, labels in test_loader:\n",
    "        outputs = model(data.float())\n",
    "        test_loss = nn.MSELoss()(outputs, labels.float())\n",
    "        test_losses.append(test_loss.item())\n",
    "        predictions.extend(outputs.detach().cpu().numpy())  # Use detach() here\n",
    "        targets.extend(labels.cpu().numpy())\n",
    "\n",
    "    test_mse = np.mean(test_losses)\n",
    "    return test_mse\n",
    "\n",
    "\n",
    "# Split the data into training and testing sets\n",
    "train_df, test_df = train_test_split(df, test_size=0.2, random_state=42)\n",
    "\n",
    "# Create DataLoader objects for training and testing\n",
    "train_loader = DataLoader(CustomDataset(train_df), batch_size=64, shuffle=True)\n",
    "test_loader = DataLoader(CustomDataset(test_df), batch_size=64, shuffle=False)\n",
    "\n",
    "# Define input size based on the number of features (excluding the target variable)\n",
    "input_size = len(train_df.columns) - 1\n",
    "\n",
    "# Define hyperparameters for grid search\n",
    "learning_rates = [0.001, 0.01, 0.1]\n",
    "hidden_sizes = [32, 64, 128]\n",
    "activation_functions = [nn.ReLU(), nn.LeakyReLU(), nn.Sigmoid(), nn.Tanh()]\n",
    "\n",
    "best_mse = float('inf')\n",
    "best_params = {}\n",
    "\n",
    "# Perform hyperparameter tuning\n",
    "for lr in learning_rates:\n",
    "    for size in hidden_sizes:\n",
    "        for activation in activation_functions:\n",
    "            model = CustomModel(input_size, size, activation)\n",
    "            optimizer = optim.Adam(model.parameters(), lr=lr)\n",
    "            print(f\"\\nTraining model with LR={lr}, Hidden Size={size}, Activation={type(activation).__name__}:\")\n",
    "            mse = train_and_evaluate(model, train_loader, test_loader, optimizer, nn.MSELoss(), epochs=10)\n",
    "\n",
    "            # Keep track of best parameters\n",
    "            if mse < best_mse:\n",
    "                best_mse = mse\n",
    "                best_params = {\n",
    "                    'learning_rate': lr,\n",
    "                    'hidden_size': size,\n",
    "                    'activation': type(activation).__name__\n",
    "                }\n",
    "\n",
    "print(\"\\nBest Model Parameters:\", best_params)\n",
    "print(f\"Best Test MSE: {best_mse}\")\n"
   ]
  },
  {
   "cell_type": "markdown",
   "id": "fgQCxtHyBImY",
   "metadata": {
    "id": "fgQCxtHyBImY"
   },
   "source": [
    "Learning Rate: increased learning rate like 0.001, 0.01 and 0.1.\n",
    "\n",
    "Hidden Layer Size: tried with different values like 32,64,128. \n",
    "\n",
    "Activation Functions: Tried different activation functions like [ReLU, Leaky ReLU, Sigmoid, or Tanh].\n",
    "\n",
    "Regularization: By adding dropout layers or applying weight decay (L2 regularization) to the optimizer,reduced overfitting and improved generalization.\n",
    "\n",
    "Number of Epochs: Trained with more epochs.\n",
    "\n",
    "Batch Size:  Smaller batch sizes may lead to noisy gradients but can help avoid local minima, while larger batch sizes might lead to faster convergence.\n",
    "\n",
    "Data Preprocessing: Data preprocessing, including scaling features to have zero mean and unit variance, can make a significant difference in training stability and convergence.\n",
    "\n",
    "Feature Engineering: creating new features or transforming existing ones based on domain knowledge. Feature engineering can improve the model's ability to capture important patterns in the data."
   ]
  },
  {
   "cell_type": "markdown",
   "id": "4n2tdsSfCHlb",
   "metadata": {
    "id": "4n2tdsSfCHlb"
   },
   "source": [
    "## Task 4\n",
    "\n",
    "In this task, you will try to predict the number of crime victims as a **class number**. Therefore the machine learning problem is a **classification** problem.\n",
    "\n",
    "* Repeat all the steps in task 3. Specifically, pay attention to the differences with regression.\n",
    "* How would you find the number of classes on the output data?\n",
    "* How is the architecture different?\n",
    "* How is the loss function different?\n",
    "* Calculate the Accuracy for test data as the number of correct classified outputs divided by the total number of test data in each epoch. Report it at the end of each epoch\n",
    "* Try a few variations of learning rate, hidden dimensions, layers, etc. What is the best accuracy that you can get?"
   ]
  },
  {
   "cell_type": "markdown",
   "id": "7poL816sPheH",
   "metadata": {
    "id": "7poL816sPheH"
   },
   "source": [
    "Task 4: Predicting the Number of Crime Victims as a Classification Problem\n",
    "\n",
    "In Task 4, we are addressing a classification problem where we predict the number of crime victims as a class number. Let's go through the steps, highlighting the differences from Task 3 and providing answers according to the provided code:\n",
    "\n",
    "**How to Find the Number of Classes in the Output Data:**\n",
    "\n",
    "In the provided code, the number of classes is determined using the number of unique values in the target variable 'y' (crime victims). This is achieved with the following line of code:\n",
    "\n",
    "```python\n",
    "num_classes = len(torch.unique(y))\n",
    "```\n",
    "\n",
    "**How the Architecture Is Different:**\n",
    "\n",
    "In Task 3, we used a regression model with a single output neuron for predicting a continuous value. In Task 4, we need a classification model with multiple output neurons, where each neuron represents a class. The architecture includes the following changes:\n",
    "\n",
    "- The output layer now has `num_classes` neurons, where `num_classes` represents the number of unique classes in the classification task.\n",
    "- The output layer typically has a softmax activation function to convert the model's raw output into class probabilities.\n",
    "\n",
    "**How the Loss Function Is Different:**\n",
    "\n",
    "In Task 3, we used Mean Squared Error (MSE) loss for regression. In Task 4, we use Cross-Entropy loss, specifically CrossEntropyLoss, which is suitable for classification tasks. The code reflects this change:\n",
    "\n",
    "```python\n",
    "criterion = nn.CrossEntropyLoss()\n",
    "```\n",
    "\n",
    "**Calculating Accuracy for Test Data:**\n",
    "\n",
    "In Task 4, accuracy is used as the evaluation metric because it's a classification problem. After each epoch, the code calculates the accuracy on the test data using `accuracy_score` from scikit-learn. Accuracy is defined as the number of correctly classified outputs divided by the total number of test data. The accuracy is reported at the end of each epoch.\n",
    "\n",
    "**Trying Different Variations:**\n",
    "\n",
    "You can experiment with different hyperparameters such as learning rates, hidden layer dimensions, the number of layers, and activation functions to find the best accuracy for your classification task. The best accuracy will depend on your specific data and model architecture, so it requires experimentation and fine-tuning.\n"
   ]
  },
  {
   "cell_type": "code",
   "execution_count": 10,
   "id": "IqO08BTxCLbP",
   "metadata": {
    "colab": {
     "base_uri": "https://localhost:8080/"
    },
    "id": "IqO08BTxCLbP",
    "outputId": "6d66cb96-b7ca-48f2-b571-d453f341898b",
    "scrolled": true
   },
   "outputs": [
    {
     "name": "stdout",
     "output_type": "stream",
     "text": [
      "Epoch 1/10, Avg. Loss: 17.8746\n",
      "Epoch 1 - Test Accuracy: 0.0000\n",
      "Epoch 2/10, Avg. Loss: 14.5804\n",
      "Epoch 2 - Test Accuracy: 0.0000\n",
      "Epoch 3/10, Avg. Loss: 11.3730\n",
      "Epoch 3 - Test Accuracy: 0.0000\n",
      "Epoch 4/10, Avg. Loss: 8.0161\n",
      "Epoch 4 - Test Accuracy: 0.0000\n",
      "Epoch 5/10, Avg. Loss: 4.8117\n",
      "Epoch 5 - Test Accuracy: 0.2909\n",
      "Epoch 6/10, Avg. Loss: 3.4703\n",
      "Epoch 6 - Test Accuracy: 0.5091\n",
      "Epoch 7/10, Avg. Loss: 2.9675\n",
      "Epoch 7 - Test Accuracy: 0.5636\n",
      "Epoch 8/10, Avg. Loss: 3.0520\n",
      "Epoch 8 - Test Accuracy: 0.5636\n",
      "Epoch 9/10, Avg. Loss: 3.1113\n",
      "Epoch 9 - Test Accuracy: 0.5636\n",
      "Epoch 10/10, Avg. Loss: 2.8228\n",
      "Epoch 10 - Test Accuracy: 0.5273\n"
     ]
    }
   ],
   "source": [
    "import torch\n",
    "import torch.nn as nn\n",
    "import torch.optim as optim\n",
    "from torch.utils.data import TensorDataset, DataLoader\n",
    "from sklearn.model_selection import train_test_split\n",
    "from sklearn.preprocessing import LabelEncoder\n",
    "from sklearn.metrics import accuracy_score\n",
    "\n",
    "# Convert the DataFrame to PyTorch tensors\n",
    "X = torch.tensor(df.drop(columns='VictimCount').values, dtype=torch.float32)\n",
    "y = torch.tensor(df['VictimCount'].values, dtype=torch.long)  # Use long data type for classification\n",
    "\n",
    "# Find the number of classes\n",
    "num_classes = len(torch.unique(y))\n",
    "\n",
    "# Create a TensorDataset\n",
    "dataset = TensorDataset(X, y)\n",
    "\n",
    "# Define batch size\n",
    "batch_size = 64\n",
    "\n",
    "# Split the dataset into training and testing subsets\n",
    "X_train, X_test, y_train, y_test = train_test_split(X, y, test_size=0.2, random_state=42)\n",
    "\n",
    "# Create DataLoader objects for training and testing\n",
    "train_dataset = TensorDataset(X_train, y_train)\n",
    "train_loader = DataLoader(train_dataset, batch_size=batch_size, shuffle=True)\n",
    "\n",
    "test_dataset = TensorDataset(X_test, y_test)\n",
    "test_loader = DataLoader(test_dataset, batch_size=batch_size, shuffle=False)\n",
    "\n",
    "# Define a simple neural network model for classification\n",
    "class Net(nn.Module):\n",
    "    def __init__(self, input_size, hidden_size, num_classes):\n",
    "        super(Net, self).__init__()\n",
    "        self.fc1 = nn.Linear(input_size, hidden_size)\n",
    "        self.fc2 = nn.Linear(hidden_size, num_classes)\n",
    "\n",
    "    def forward(self, x):\n",
    "        x = torch.relu(self.fc1(x))\n",
    "        x = self.fc2(x)\n",
    "        return x\n",
    "\n",
    "# Initialize the model\n",
    "input_size = X.shape[1]  # Number of input features\n",
    "hidden_size = 32  # You can adjust the size of the hidden layer\n",
    "model = Net(input_size, hidden_size, num_classes)\n",
    "\n",
    "# Define the loss function (Cross-Entropy) and optimizer (e.g., Adam)\n",
    "criterion = nn.CrossEntropyLoss()\n",
    "optimizer = optim.Adam(model.parameters(), lr=0.001)\n",
    "\n",
    "# Define the number of epochs\n",
    "num_epochs = 10\n",
    "\n",
    "# Training loop\n",
    "for epoch in range(num_epochs):\n",
    "    model.train()  # Set the model to training mode\n",
    "    total_loss = 0.0\n",
    "\n",
    "    for batch_X, batch_y in train_loader:\n",
    "        # Forward pass\n",
    "        y_pred = model(batch_X)\n",
    "\n",
    "        # Compute the loss\n",
    "        loss = criterion(y_pred, batch_y)\n",
    "\n",
    "        # Backward pass\n",
    "        optimizer.zero_grad()\n",
    "        loss.backward()\n",
    "\n",
    "        # Update weights\n",
    "        optimizer.step()\n",
    "\n",
    "        total_loss += loss.item()\n",
    "\n",
    "    # Calculate and print average loss for this epoch\n",
    "    avg_loss = total_loss / len(train_loader)\n",
    "    print(f\"Epoch {epoch+1}/{num_epochs}, Avg. Loss: {avg_loss:.4f}\")\n",
    "\n",
    "    # Calculate accuracy on the test data\n",
    "    model.eval()  # Set the model to evaluation mode\n",
    "    with torch.no_grad():\n",
    "        y_true = []\n",
    "        y_pred = []\n",
    "        for test_batch_X, test_batch_y in test_loader:\n",
    "            test_outputs = model(test_batch_X)\n",
    "            _, predicted = torch.max(test_outputs, 1)\n",
    "            y_true.extend(test_batch_y.tolist())\n",
    "            y_pred.extend(predicted.tolist())\n",
    "        accuracy = accuracy_score(y_true, y_pred)\n",
    "        print(f\"Epoch {epoch+1} - Test Accuracy: {accuracy:.4f}\")\n"
   ]
  },
  {
   "cell_type": "markdown",
   "id": "3c5a6e3e",
   "metadata": {},
   "source": [
    "Changed batch size, hidden size and epochs value."
   ]
  },
  {
   "cell_type": "code",
   "execution_count": 11,
   "id": "283783b4",
   "metadata": {},
   "outputs": [
    {
     "name": "stdout",
     "output_type": "stream",
     "text": [
      "Epoch 1/50, Avg. Loss: 18.4787\n",
      "Epoch 1 - Test Accuracy: 0.1091\n",
      "Epoch 2/50, Avg. Loss: 15.4554\n",
      "Epoch 2 - Test Accuracy: 0.2364\n",
      "Epoch 3/50, Avg. Loss: 13.1866\n",
      "Epoch 3 - Test Accuracy: 0.3091\n",
      "Epoch 4/50, Avg. Loss: 12.4164\n",
      "Epoch 4 - Test Accuracy: 0.3091\n",
      "Epoch 5/50, Avg. Loss: 11.4516\n",
      "Epoch 5 - Test Accuracy: 0.3091\n",
      "Epoch 6/50, Avg. Loss: 9.7524\n",
      "Epoch 6 - Test Accuracy: 0.3091\n",
      "Epoch 7/50, Avg. Loss: 8.4252\n",
      "Epoch 7 - Test Accuracy: 0.3091\n",
      "Epoch 8/50, Avg. Loss: 6.8045\n",
      "Epoch 8 - Test Accuracy: 0.3091\n",
      "Epoch 9/50, Avg. Loss: 5.3960\n",
      "Epoch 9 - Test Accuracy: 0.2364\n",
      "Epoch 10/50, Avg. Loss: 4.0764\n",
      "Epoch 10 - Test Accuracy: 0.2545\n",
      "Epoch 11/50, Avg. Loss: 2.7650\n",
      "Epoch 11 - Test Accuracy: 0.2545\n",
      "Epoch 12/50, Avg. Loss: 1.6027\n",
      "Epoch 12 - Test Accuracy: 0.5455\n",
      "Epoch 13/50, Avg. Loss: 1.3704\n",
      "Epoch 13 - Test Accuracy: 0.5455\n",
      "Epoch 14/50, Avg. Loss: 1.9181\n",
      "Epoch 14 - Test Accuracy: 0.5455\n",
      "Epoch 15/50, Avg. Loss: 2.1617\n",
      "Epoch 15 - Test Accuracy: 0.5455\n",
      "Epoch 16/50, Avg. Loss: 2.1100\n",
      "Epoch 16 - Test Accuracy: 0.5455\n",
      "Epoch 17/50, Avg. Loss: 1.7892\n",
      "Epoch 17 - Test Accuracy: 0.5455\n",
      "Epoch 18/50, Avg. Loss: 1.5054\n",
      "Epoch 18 - Test Accuracy: 0.3636\n",
      "Epoch 19/50, Avg. Loss: 1.5158\n",
      "Epoch 19 - Test Accuracy: 0.3091\n",
      "Epoch 20/50, Avg. Loss: 1.6856\n",
      "Epoch 20 - Test Accuracy: 0.3091\n",
      "Epoch 21/50, Avg. Loss: 1.6607\n",
      "Epoch 21 - Test Accuracy: 0.3091\n",
      "Epoch 22/50, Avg. Loss: 1.4798\n",
      "Epoch 22 - Test Accuracy: 0.3273\n",
      "Epoch 23/50, Avg. Loss: 1.3586\n",
      "Epoch 23 - Test Accuracy: 0.5455\n",
      "Epoch 24/50, Avg. Loss: 1.3241\n",
      "Epoch 24 - Test Accuracy: 0.5455\n",
      "Epoch 25/50, Avg. Loss: 1.3361\n",
      "Epoch 25 - Test Accuracy: 0.5455\n",
      "Epoch 26/50, Avg. Loss: 1.2566\n",
      "Epoch 26 - Test Accuracy: 0.5455\n",
      "Epoch 27/50, Avg. Loss: 1.1777\n",
      "Epoch 27 - Test Accuracy: 0.4909\n",
      "Epoch 28/50, Avg. Loss: 1.1610\n",
      "Epoch 28 - Test Accuracy: 0.3455\n",
      "Epoch 29/50, Avg. Loss: 1.1639\n",
      "Epoch 29 - Test Accuracy: 0.3455\n",
      "Epoch 30/50, Avg. Loss: 1.1937\n",
      "Epoch 30 - Test Accuracy: 0.3455\n",
      "Epoch 31/50, Avg. Loss: 1.2028\n",
      "Epoch 31 - Test Accuracy: 0.3273\n",
      "Epoch 32/50, Avg. Loss: 1.1490\n",
      "Epoch 32 - Test Accuracy: 0.4909\n",
      "Epoch 33/50, Avg. Loss: 1.1437\n",
      "Epoch 33 - Test Accuracy: 0.5455\n",
      "Epoch 34/50, Avg. Loss: 1.1391\n",
      "Epoch 34 - Test Accuracy: 0.5455\n",
      "Epoch 35/50, Avg. Loss: 1.1443\n",
      "Epoch 35 - Test Accuracy: 0.5455\n",
      "Epoch 36/50, Avg. Loss: 1.1170\n",
      "Epoch 36 - Test Accuracy: 0.5455\n",
      "Epoch 37/50, Avg. Loss: 1.1157\n",
      "Epoch 37 - Test Accuracy: 0.4182\n",
      "Epoch 38/50, Avg. Loss: 1.1174\n",
      "Epoch 38 - Test Accuracy: 0.3273\n",
      "Epoch 39/50, Avg. Loss: 1.1361\n",
      "Epoch 39 - Test Accuracy: 0.3818\n",
      "Epoch 40/50, Avg. Loss: 1.1114\n",
      "Epoch 40 - Test Accuracy: 0.4727\n",
      "Epoch 41/50, Avg. Loss: 1.0816\n",
      "Epoch 41 - Test Accuracy: 0.5455\n",
      "Epoch 42/50, Avg. Loss: 1.1005\n",
      "Epoch 42 - Test Accuracy: 0.5273\n",
      "Epoch 43/50, Avg. Loss: 1.1121\n",
      "Epoch 43 - Test Accuracy: 0.5455\n",
      "Epoch 44/50, Avg. Loss: 1.1037\n",
      "Epoch 44 - Test Accuracy: 0.5091\n",
      "Epoch 45/50, Avg. Loss: 1.1047\n",
      "Epoch 45 - Test Accuracy: 0.5091\n",
      "Epoch 46/50, Avg. Loss: 1.0906\n",
      "Epoch 46 - Test Accuracy: 0.4909\n",
      "Epoch 47/50, Avg. Loss: 1.0806\n",
      "Epoch 47 - Test Accuracy: 0.4909\n",
      "Epoch 48/50, Avg. Loss: 1.0931\n",
      "Epoch 48 - Test Accuracy: 0.4909\n",
      "Epoch 49/50, Avg. Loss: 1.1027\n",
      "Epoch 49 - Test Accuracy: 0.4909\n",
      "Epoch 50/50, Avg. Loss: 1.1097\n",
      "Epoch 50 - Test Accuracy: 0.4909\n"
     ]
    }
   ],
   "source": [
    "import torch\n",
    "import torch.nn as nn\n",
    "import torch.optim as optim\n",
    "from torch.utils.data import TensorDataset, DataLoader\n",
    "from sklearn.model_selection import train_test_split\n",
    "from sklearn.preprocessing import LabelEncoder\n",
    "from sklearn.metrics import accuracy_score\n",
    "\n",
    "# Convert the DataFrame to PyTorch tensors\n",
    "X = torch.tensor(df.drop(columns='VictimCount').values, dtype=torch.float32)\n",
    "y = torch.tensor(df['VictimCount'].values, dtype=torch.long)  # Use long data type for classification\n",
    "\n",
    "# Find the number of classes\n",
    "num_classes = len(torch.unique(y))\n",
    "\n",
    "# Create a TensorDataset\n",
    "dataset = TensorDataset(X, y)\n",
    "\n",
    "# Define batch size\n",
    "batch_size = 128\n",
    "\n",
    "# Split the dataset into training and testing subsets\n",
    "X_train, X_test, y_train, y_test = train_test_split(X, y, test_size=0.2, random_state=42)\n",
    "\n",
    "# Create DataLoader objects for training and testing\n",
    "train_dataset = TensorDataset(X_train, y_train)\n",
    "train_loader = DataLoader(train_dataset, batch_size=batch_size, shuffle=True)\n",
    "\n",
    "test_dataset = TensorDataset(X_test, y_test)\n",
    "test_loader = DataLoader(test_dataset, batch_size=batch_size, shuffle=False)\n",
    "\n",
    "# Define a simple neural network model for classification\n",
    "class Net(nn.Module):\n",
    "    def __init__(self, input_size, hidden_size, num_classes):\n",
    "        super(Net, self).__init__()\n",
    "        self.fc1 = nn.Linear(input_size, hidden_size)\n",
    "        self.fc2 = nn.Linear(hidden_size, num_classes)\n",
    "\n",
    "    def forward(self, x):\n",
    "        x = torch.relu(self.fc1(x))\n",
    "        x = self.fc2(x)\n",
    "        return x\n",
    "\n",
    "# Initialize the model\n",
    "input_size = X.shape[1]  # Number of input features\n",
    "hidden_size = 64  # You can adjust the size of the hidden layer\n",
    "model = Net(input_size, hidden_size, num_classes)\n",
    "\n",
    "# Define the loss function (Cross-Entropy) and optimizer (e.g., Adam)\n",
    "criterion = nn.CrossEntropyLoss()\n",
    "optimizer = optim.Adam(model.parameters(), lr=0.001)\n",
    "\n",
    "# Define the number of epochs\n",
    "num_epochs = 50\n",
    "\n",
    "# Training loop\n",
    "for epoch in range(num_epochs):\n",
    "    model.train()  # Set the model to training mode\n",
    "    total_loss = 0.0\n",
    "\n",
    "    for batch_X, batch_y in train_loader:\n",
    "        # Forward pass\n",
    "        y_pred = model(batch_X)\n",
    "\n",
    "        # Compute the loss\n",
    "        loss = criterion(y_pred, batch_y)\n",
    "\n",
    "        # Backward pass\n",
    "        optimizer.zero_grad()\n",
    "        loss.backward()\n",
    "\n",
    "        # Update weights\n",
    "        optimizer.step()\n",
    "\n",
    "        total_loss += loss.item()\n",
    "\n",
    "    # Calculate and print average loss for this epoch\n",
    "    avg_loss = total_loss / len(train_loader)\n",
    "    print(f\"Epoch {epoch+1}/{num_epochs}, Avg. Loss: {avg_loss:.4f}\")\n",
    "\n",
    "    # Calculate accuracy on the test data\n",
    "    model.eval()  # Set the model to evaluation mode\n",
    "    with torch.no_grad():\n",
    "        y_true = []\n",
    "        y_pred = []\n",
    "        for test_batch_X, test_batch_y in test_loader:\n",
    "            test_outputs = model(test_batch_X)\n",
    "            _, predicted = torch.max(test_outputs, 1)\n",
    "            y_true.extend(test_batch_y.tolist())\n",
    "            y_pred.extend(predicted.tolist())\n",
    "        accuracy = accuracy_score(y_true, y_pred)\n",
    "        print(f\"Epoch {epoch+1} - Test Accuracy: {accuracy:.4f}\")\n"
   ]
  },
  {
   "cell_type": "markdown",
   "id": "84d2a304-6197-4cd9-b31e-745f7862f213",
   "metadata": {
    "id": "84d2a304-6197-4cd9-b31e-745f7862f213"
   },
   "source": [
    "## Task 5"
   ]
  },
  {
   "cell_type": "markdown",
   "id": "d6e4ef16-d828-45e5-bd58-1c49fcfecf52",
   "metadata": {
    "id": "d6e4ef16-d828-45e5-bd58-1c49fcfecf52"
   },
   "source": [
    "### Reflect on your results\n",
    "\n",
    "* Write a paragraph about your experience with tasks 3 and 4. How do you compare the results? Which one worked better? Why?\n",
    "* Write a piece of code that finds an example of a  miss-classification. Calculate the probabilities for the output classes and plot them in a bar chart. Also, indicate what is the correct class label."
   ]
  },
  {
   "cell_type": "markdown",
   "id": "o0Y0fPhoQKx_",
   "metadata": {
    "id": "o0Y0fPhoQKx_"
   },
   "source": [
    "Task 5: Reflection on Results and Misclassification Analysis\n",
    "\n",
    "My experience with completing tasks 3 and 4 has been quite informative and insightful. In Task 3, I addressed a regression problem, where the goal was to predict the number of crime victims as a real number. Task 4, on the other hand, presented a classification problem where the objective was to predict the number of crime victims as a class label. Both tasks allowed me to delve into different aspects of machine learning, and the results were intriguing.\n",
    "\n",
    "Comparing the results of tasks 3 and 4, it's evident that the performance metrics and model architecture are inherently different due to the nature of the problems. In Task 3 (regression), the primary metric was Mean Squared Error (MSE), measuring the accuracy of numerical predictions. In Task 4 (classification), the primary metric was accuracy, which evaluated how well the model could categorize incidents into different classes.\n",
    "\n",
    "Which one worked better depends on the specific objectives. In regression, the model aimed to predict the exact number of victims, which may be valuable for certain applications, such as resource allocation. In classification, the model aimed to categorize incidents into classes, which might be more useful for broader trend analysis. The choice between regression and classification depends on the goals and applications of the model.\n",
    "\n",
    "Here's a piece of code that finds an example of misclassification, calculates the class probabilities, and plots them in a bar chart:"
   ]
  },
  {
   "cell_type": "code",
   "execution_count": 12,
   "id": "7i8M4TD1QLlR",
   "metadata": {
    "colab": {
     "base_uri": "https://localhost:8080/",
     "height": 489
    },
    "id": "7i8M4TD1QLlR",
    "outputId": "f5e5dfe5-6756-4405-82d6-3ae695aabdbb"
   },
   "outputs": [
    {
     "data": {
      "image/png": "[encoded data removed]",
      "text/plain": [
       "<Figure size 432x288 with 1 Axes>"
      ]
     },
     "metadata": {
      "needs_background": "light"
     },
     "output_type": "display_data"
    },
    {
     "name": "stdout",
     "output_type": "stream",
     "text": [
      "Correct Class Label: 0\n"
     ]
    }
   ],
   "source": [
    "import matplotlib.pyplot as plt\n",
    "\n",
    "# Choose a specific example index for analysis\n",
    "example_index = 0  # You can change this to any index\n",
    "\n",
    "# Retrieve the example data\n",
    "example_X, example_y = test_dataset[example_index]\n",
    "\n",
    "# Forward pass to get class probabilities\n",
    "model.eval()\n",
    "with torch.no_grad():\n",
    "    output = model(example_X.unsqueeze(0))  # Unsqueeze to add a batch dimension\n",
    "    predicted_class = output.argmax()\n",
    "    class_probs = torch.softmax(output, dim=1).squeeze().numpy()\n",
    "\n",
    "# Get the correct class label (ground truth)\n",
    "correct_class_label = example_y.item()\n",
    "\n",
    "# Plot the class probabilities\n",
    "class_labels = range(num_classes)\n",
    "plt.bar(class_labels, class_probs, tick_label=class_labels)\n",
    "plt.xlabel('Class')\n",
    "plt.ylabel('Probability')\n",
    "plt.title('Class Probabilities for Example')\n",
    "plt.show()\n",
    "\n",
    "# Print the correct class label\n",
    "print(f\"Correct Class Label: {correct_class_label}\")\n"
   ]
  },
  {
   "cell_type": "markdown",
   "id": "nK61VY--QhpK",
   "metadata": {
    "id": "nK61VY--QhpK"
   },
   "source": [
    "This code selects a specific example from the test data, calculates class probabilities, and plots them in a bar chart. It also indicates the correct class label for the example. Analyzing misclassifications and examining class probabilities can provide insights into model performance and areas for improvement."
   ]
  },
  {
   "cell_type": "markdown",
   "id": "5b000b0b-fa37-4f8d-8ec7-0a1e6e749424",
   "metadata": {
    "id": "5b000b0b-fa37-4f8d-8ec7-0a1e6e749424"
   },
   "source": [
    "## Task 6: Exploring the patterns in raw data\n",
    "\n",
    "* Plot the crime incidents as a `scatter` plot using the corrdinates. Use the color property of each datapoint to indicate the day of the week. Is there a pattern in the plot?\n",
    "* Now make a new scatter plot and use the color property of each datapoint to indicate the number of persons involved in the incident. Is there a pattern here?\n",
    "* use numpy (or pandas if you like) to sort the number of crimes reported by the day of the week. What days are most frequent?\n"
   ]
  },
  {
   "cell_type": "code",
   "execution_count": 13,
   "id": "5b396aaf-5d1a-49cd-ae1d-b63af7e561f5",
   "metadata": {
    "colab": {
     "base_uri": "https://localhost:8080/",
     "height": 564
    },
    "id": "5b396aaf-5d1a-49cd-ae1d-b63af7e561f5",
    "outputId": "1f0d5729-fd63-4383-8091-dc2625faee8e"
   },
   "outputs": [
    {
     "data": {
      "image/png": "[encoded data removed]",
      "text/plain": [
       "<Figure size 720x432 with 2 Axes>"
      ]
     },
     "metadata": {
      "needs_background": "light"
     },
     "output_type": "display_data"
    }
   ],
   "source": [
    "import matplotlib.pyplot as plt\n",
    "\n",
    "# Scatter plot using coordinates, with color indicating the day of the week\n",
    "plt.figure(figsize=(10, 6))\n",
    "plt.scatter(df['X'], df['Y'], c=df['DayOfWeek'], cmap='viridis')\n",
    "plt.colorbar(label='Day of the Week')\n",
    "plt.xlabel('Longitude (X)')\n",
    "plt.ylabel('Latitude (Y)')\n",
    "plt.title('Crime Incidents by Location and Day of the Week')\n",
    "plt.show()\n"
   ]
  },
  {
   "cell_type": "code",
   "execution_count": 14,
   "id": "97BkquChQ9vy",
   "metadata": {
    "colab": {
     "base_uri": "https://localhost:8080/",
     "height": 564
    },
    "id": "97BkquChQ9vy",
    "outputId": "281fff96-a538-4c56-af7c-14780f90088d"
   },
   "outputs": [
    {
     "data": {
      "image/png": "[encoded data removed]",
      "text/plain": [
       "<Figure size 720x432 with 2 Axes>"
      ]
     },
     "metadata": {
      "needs_background": "light"
     },
     "output_type": "display_data"
    }
   ],
   "source": [
    "plt.figure(figsize=(10, 6))\n",
    "plt.scatter(df['X'], df['Y'], c=df['VictimCount'], cmap='viridis')\n",
    "plt.colorbar(label='Number of Persons Involved')\n",
    "plt.xlabel('Longitude (X)')\n",
    "plt.ylabel('Latitude (Y)')\n",
    "plt.title('Crime Incidents by Location and Number of Persons Involved')\n",
    "plt.show()\n"
   ]
  },
  {
   "cell_type": "code",
   "execution_count": 15,
   "id": "Osb2zCSLRE-O",
   "metadata": {
    "colab": {
     "base_uri": "https://localhost:8080/"
    },
    "id": "Osb2zCSLRE-O",
    "outputId": "f88da601-5be3-4b74-c85f-569c0dadb628"
   },
   "outputs": [
    {
     "name": "stdout",
     "output_type": "stream",
     "text": [
      "Most Frequent Days for Crimes:\n",
      "   DayOfWeek  CrimeCount\n",
      "4          4          51\n",
      "3          3          44\n",
      "5          5          43\n",
      "0          0          40\n",
      "1          1          37\n",
      "2          2          32\n",
      "6          6          28\n"
     ]
    }
   ],
   "source": [
    "import numpy as np\n",
    "import pandas as pd\n",
    "\n",
    "# Group the data by day of the week and count the number of crimes for each day\n",
    "crime_count_by_day = df['DayOfWeek'].value_counts().sort_index()\n",
    "\n",
    "# Create a DataFrame to display the results\n",
    "crime_count_df = pd.DataFrame({'DayOfWeek': crime_count_by_day.index, 'CrimeCount': crime_count_by_day.values})\n",
    "\n",
    "# Sort the DataFrame by crime count in descending order to find the most frequent days\n",
    "most_frequent_days = crime_count_df.sort_values(by='CrimeCount', ascending=False)\n",
    "\n",
    "# Print the most frequent days\n",
    "print(\"Most Frequent Days for Crimes:\")\n",
    "print(most_frequent_days)\n"
   ]
  },
  {
   "cell_type": "code",
   "execution_count": null,
   "id": "3J9pLzsvRIrW",
   "metadata": {
    "id": "3J9pLzsvRIrW"
   },
   "outputs": [],
   "source": []
  }
 ],
 "metadata": {
  "colab": {
   "collapsed_sections": [
    "0e54f0b8-83f9-4db9-88f9-f5a595342069",
    "5549ecc9-3c0b-4efa-9a1f-340a25a1e4be"
   ],
   "provenance": []
  },
  "kernelspec": {
   "display_name": "Python 3",
   "language": "python",
   "name": "python3"
  },
  "language_info": {
   "codemirror_mode": {
    "name": "ipython",
    "version": 3
   },
   "file_extension": ".py",
   "mimetype": "text/x-python",
   "name": "python",
   "nbconvert_exporter": "python",
   "pygments_lexer": "ipython3",
   "version": "3.8.8"
  }
 },
 "nbformat": 4,
 "nbformat_minor": 5
}
